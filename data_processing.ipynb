{
 "cells": [
  {
   "cell_type": "markdown",
   "metadata": {},
   "source": [
    "# Process the gravity data\n",
    "\n"
   ]
  },
  {
   "cell_type": "code",
   "execution_count": 1,
   "metadata": {
    "collapsed": true
   },
   "outputs": [],
   "source": [
    "%matplotlib inline\n",
    "from __future__ import division, print_function\n",
    "import numpy as np\n",
    "import matplotlib.pyplot as plt\n",
    "from load_icgem import load_icgem_gdf"
   ]
  },
  {
   "cell_type": "code",
   "execution_count": 2,
   "metadata": {
    "collapsed": true
   },
   "outputs": [],
   "source": [
    "data = load_icgem_gdf('data/go_cons_gcf_2_tim_r5-africa-1deg.gdf')"
   ]
  },
  {
   "cell_type": "code",
   "execution_count": 3,
   "metadata": {
    "collapsed": false
   },
   "outputs": [
    {
     "data": {
      "text/plain": [
       "['area', 'longitude', 'height', 'shape', 'latitude', 'gravity_ell', 'metadata']"
      ]
     },
     "execution_count": 3,
     "metadata": {},
     "output_type": "execute_result"
    }
   ],
   "source": [
    "data.keys()"
   ]
  },
  {
   "cell_type": "code",
   "execution_count": 4,
   "metadata": {
    "collapsed": false
   },
   "outputs": [
    {
     "name": "stdout",
     "output_type": "stream",
     "text": [
      "generating_institute     gfz-potsdam\n",
      "     generating_date     2016/07/12\n",
      "        product_type     gravity_field\n",
      "                body     earth\n",
      "           modelname     go_cons_gcf_2_tim_r5\n",
      "     max_used_degree           280\n",
      "         tide_system     tide_free\n",
      "          functional     gravity_ell  (centrifugal term included)\n",
      "                unit     mgal\n",
      "          refsysname     WGS84\n",
      "            gmrefpot      3.98600441800E+14 m**3/s**2\n",
      "        radiusrefpot     6378137.000 m\n",
      "          flatrefpot      3.352810664747480E-03   (1/298.25722356300)\n",
      "         omegarefpot      7.29211500000E-05 1/s\n",
      "       long_lat_unit     degree\n",
      "      latlimit_north       40.000000000000    \n",
      "      latlimit_south      -40.000000000000    \n",
      "      longlimit_west      -20.000000000000    \n",
      "      longlimit_east       55.000000000000    \n",
      "            gridstep       1.0000000000000    \n",
      "     height_over_ell       4000.0000 m\n",
      "  latitude_parallels            81\n",
      " longitude_parallels            76\n",
      "number_of_gridpoints          6156\n",
      "            gapvalue        9999999.0000\n",
      "       weighted_mean      9.7753081E+05 mgal\n",
      "            maxvalue      9.7910036E+05 mgal\n",
      "            minvalue      9.7672222E+05 mgal\n",
      "         signal_wrms      6.5879771E+02 mgal\n",
      "         grid_format     long_lat_value\n",
      " \n",
      "          longitude    latitude    gravity_ell\n",
      "            [deg.]      [deg.]         [mgal]\n",
      "\n"
     ]
    }
   ],
   "source": [
    "print(data['metadata'])"
   ]
  },
  {
   "cell_type": "code",
   "execution_count": 7,
   "metadata": {
    "collapsed": false
   },
   "outputs": [],
   "source": [
    "lat = data['latitude']\n",
    "lon = data['longitude']\n",
    "height = data['height']\n",
    "grav = data['gravity_ell']\n",
    "shape = data['shape']\n",
    "area = data['area']"
   ]
  },
  {
   "cell_type": "code",
   "execution_count": 8,
   "metadata": {
    "collapsed": false
   },
   "outputs": [
    {
     "name": "stdout",
     "output_type": "stream",
     "text": [
      "[-40.0, 40.0, -20.0, 55.0]\n"
     ]
    }
   ],
   "source": [
    "print(area)"
   ]
  },
  {
   "cell_type": "markdown",
   "metadata": {},
   "source": [
    "To choose colormaps:\n",
    "\n",
    "* http://matplotlib.org/examples/color/colormaps_reference.html\n",
    "* http://matplotlib.org/users/colormaps.html"
   ]
  },
  {
   "cell_type": "code",
   "execution_count": 10,
   "metadata": {
    "collapsed": false
   },
   "outputs": [
    {
     "data": {
      "text/plain": [
       "(-20.0, 55.0)"
      ]
     },
     "execution_count": 10,
     "metadata": {},
     "output_type": "execute_result"
    },
    {
     "data": {
      "image/png": "[encoded data removed]",
      "text/plain": [
       "<matplotlib.figure.Figure at 0x7f85bedd6ed0>"
      ]
     },
     "metadata": {},
     "output_type": "display_data"
    }
   ],
   "source": [
    "plt.figure()\n",
    "plt.tricontourf(lon, lat, grav, 50, cmap='viridis')\n",
    "plt.colorbar()\n",
    "plt.xlim(area[2], area[3])"
   ]
  },
  {
   "cell_type": "code",
   "execution_count": null,
   "metadata": {
    "collapsed": true
   },
   "outputs": [],
   "source": []
  }
 ],
 "metadata": {
  "kernelspec": {
   "display_name": "Python 2",
   "language": "python",
   "name": "python2"
  },
  "language_info": {
   "codemirror_mode": {
    "name": "ipython",
    "version": 2
   },
   "file_extension": ".py",
   "mimetype": "text/x-python",
   "name": "python",
   "nbconvert_exporter": "python",
   "pygments_lexer": "ipython2",
   "version": "2.7.12"
  }
 },
 "nbformat": 4,
 "nbformat_minor": 0
}
